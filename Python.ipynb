{
  "nbformat": 4,
  "nbformat_minor": 0,
  "metadata": {
    "colab": {
      "provenance": []
    },
    "kernelspec": {
      "name": "python3",
      "display_name": "Python 3"
    },
    "language_info": {
      "name": "python"
    }
  },
  "cells": [
    {
      "cell_type": "markdown",
      "source": [
        "## Q1:\n",
        "\n",
        "Write 2 python function to get the indices of the sorted elements of given lists and compare the speed. one is without numpy package and the other is with numpy. (raise a error message if the input is null or not numerical)"
      ],
      "metadata": {
        "id": "bDtrWARXqq-P"
      }
    },
    {
      "cell_type": "code",
      "source": [
        "import random,time\n",
        "import numpy as np\n",
        "\n",
        "\n",
        "a = [23, 104, 5, 190, 8, 7, -3]\n",
        "b = []\n",
        "c = list(range(1000000))\n",
        "\n",
        "random.shuffle(c)\n",
        "\n",
        "\n",
        "def sort(lst):\n",
        "    return list(map(lambda e: e[1], sorted([(v,k) for k,v in enumerate(lst)]))) # array_keys( asort( array_flip($lst) ) )\n",
        "\n",
        "def sort_np(lst):\n",
        "    return list(np.argsort(lst))\n",
        "\n",
        "def test(lst):\n",
        "\n",
        "    if lst is None or not all(isinstance(i,(int,float)) for i in lst):\n",
        "       raise ValueError(\"List is null or contains non-numerical values\")\n",
        "\n",
        "    print(\"Sorting\",lst[:10])\n",
        "\n",
        "    start = time.time()\n",
        "    sort(lst)\n",
        "    print(f\"Python: {(time.time()-start)*1000000:<10.0f}μs\")\n",
        "\n",
        "    start = time.time()\n",
        "    sort_np(lst)\n",
        "    print(f\"NumPy : {(time.time()-start)*1000000:<10.0f}μs\")\n",
        "\n",
        "\n",
        "if __name__ == \"__main__\":\n",
        "    for lst in [a,b,c]:\n",
        "      try:\n",
        "        test(lst)\n",
        "      except ValueError as e:\n",
        "        print(f\"Error! \",e)"
      ],
      "metadata": {
        "id": "LVFDso24mZww"
      },
      "execution_count": null,
      "outputs": []
    },
    {
      "cell_type": "markdown",
      "source": [
        "Conclusion: NumPy has some overhead but is faster on big list."
      ],
      "metadata": {
        "id": "xfue_A40qwbu"
      }
    },
    {
      "cell_type": "markdown",
      "source": [
        "## Q2:\n",
        "\n",
        "Do the following exercise in a Jupyter Notebook:"
      ],
      "metadata": {
        "id": "0I2sbvOFraQ4"
      }
    },
    {
      "cell_type": "code",
      "source": [
        "import pandas as pd\n",
        "\n",
        "# Load the countries.csv directly via URL import into your panda data frame!\n",
        "df = pd.read_csv('https://raw.githubusercontent.com/WHPAN0108/BHT-DataScience-S23/main/python-DS/country.csv')\n",
        "\n",
        "print(\"Display descriptive statistics for the numerical column  HINT: describe\")\n",
        "display(df.describe())\n",
        "\n",
        "print(\"\\n Show the last 4 rows of the data frame.\")\n",
        "display(df.tail(4))\n",
        "\n",
        "print(\"\\n Show all the rows of countries that have the EURO\")\n",
        "display(df[df['Currency'] == 'EUR'])\n",
        "\n",
        "print(\"\\n Show only name and Currency in a new data frame\")\n",
        "new_df = df[['Name', 'Currency']]\n",
        "display(new_df)\n",
        "\n",
        "print(\"\\n Show only the rows/countries that have more than 2000 GDP\")\n",
        "display(df[df['GDP'] > 2000])\n",
        "\n",
        "print(\"\\n Select all countries where with inhabitants between 50 and 150 Mio\")\n",
        "display(df[(df['Population'] >= 50e6) & (df['Population'] <= 150e6)])\n",
        "\n",
        "print(\"\\n Calculate the GDP average (ignore the missing value)\")\n",
        "display(df['GDP'].dropna().astype(float).mean())\n",
        "\n",
        "print(\"\\n Calculate the GDP average (missing value treated as 0)\")\n",
        "display(df['GDP'].fillna(0).astype(float).mean())\n",
        "\n",
        "print(\"\\n Calculate the population density (population/area)  of all countries and add as new column\")\n",
        "df['Population Density'] = df['Population'] / df['Area']\n",
        "display(df)\n",
        "\n",
        "print(\"\\n Sort by country name alphabetically\")\n",
        "display(df.sort_values(by='Name'))\n",
        "\n",
        "print(\"\\n Create a new data frame from the original where the area is changed: all countries with > 1000000 get BIG and <= 1000000 get SMALL in the cell replaced!\")\n",
        "fd = df.assign(Area=df['Area'].apply(lambda x: 'BIG' if x > 1e6 else 'SMALL'))\n",
        "display(fd)"
      ],
      "metadata": {
        "id": "GEbW9_4X9vNx"
      },
      "execution_count": null,
      "outputs": []
    }
  ]
}
