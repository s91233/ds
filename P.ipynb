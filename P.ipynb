{
  "nbformat": 4,
  "nbformat_minor": 0,
  "metadata": {
    "colab": {
      "private_outputs": true,
      "provenance": []
    },
    "kernelspec": {
      "name": "python3",
      "display_name": "Python 3"
    },
    "language_info": {
      "name": "python"
    }
  },
  "cells": [
    {
      "cell_type": "markdown",
      "source": [
        "1. Unfair Dice\n",
        "\n",
        "> with a unfair dice, the probability of point 2 is twice than point 1, probability of point 3 is triple than point 1, and so on. What is the expected value and variance of this dice?\n",
        "\n",
        "- point 1: $1p$\n",
        "- point 2: $2p$\n",
        "- point 3: $3p$\n",
        "- point 4: $4p$\n",
        "- point 5: $5p$\n",
        "- point 6: $6p$\n",
        "\n",
        "sum of all these probabilities must equal 1 since it is a probability distribution:\n",
        "\n",
        "$$ p + 2p + 3p + 4p + 5p + 6p = 21p = 1 $$\n",
        "\n",
        "solving for $ p $:\n",
        "\n",
        "$$ p = \\frac{1}{21} $$\n",
        "\n",
        "expected value $ E(X) $ is calculated as:\n",
        "\n",
        "$$ E(X) = \\sum_{i=1}^{6} i \\cdot P(X=i) $$\n",
        "\n",
        "insert the probabilities:\n",
        "\n",
        "$$ E(X) = 1 \\cdot p + 2 \\cdot 2p + 3 \\cdot 3p + 4 \\cdot 4p + 5 \\cdot 5p + 6 \\cdot 6p $$\n",
        "$$ E(X) = 1p + 4p + 9p + 16p + 25p + 36p $$\n",
        "$$ E(X) = (1 + 4 + 9 + 16 + 25 + 36)p $$\n",
        "$$ E(X) = 91p $$\n",
        "\n",
        "substitute $ p = \\frac{1}{21} $:\n",
        "\n",
        "$$ E(X) = 91 \\cdot \\frac{1}{21} = \\frac{91}{21} = \\frac{13}{3} $$\n",
        "\n",
        "so, the expected value $ E(X) $ is $ \\frac{13}{3} $.\n",
        "\n",
        "$~$\n",
        "\n",
        "variance is calculated as $ \\text{Var}(X) $:\n",
        "\n",
        "$$ \\text{Var}(X) = E(X^2) - [E(X)]^2 $$\n",
        "\n",
        "we need to find $ E(X^2) $:\n",
        "\n",
        "$$ E(X^2) = \\sum_{i=1}^{6} i^2 \\cdot P(X=i) $$\n",
        "$$ E(X^2) = 1^2 \\cdot p + 2^2 \\cdot 2p + 3^2 \\cdot 3p + 4^2 \\cdot 4p + 5^2 \\cdot 5p + 6^2 \\cdot 6p $$\n",
        "$$ E(X^2) = 1 \\cdot p + 4 \\cdot 2p + 9 \\cdot 3p + 16 \\cdot 4p + 25 \\cdot 5p + 36 \\cdot 6p $$\n",
        "$$ E(X^2) = 1p + 8p + 27p + 64p + 125p + 216p $$\n",
        "$$ E(X^2) = (1 + 8 + 27 + 64 + 125 + 216)p $$\n",
        "$$ E(X^2) = 441p $$\n",
        "\n",
        "substitute $ p = \\frac{1}{21} $:\n",
        "\n",
        "$$ E(X^2) = 441 \\cdot \\frac{1}{21} = 21 $$\n",
        "\n",
        "calculate variance $ \\text{Var}(X) $:\n",
        "\n",
        "$$ \\text{Var}(X) = E(X^2) - [E(X)]^2 $$\n",
        "$$ \\text{Var}(X) = 21 - \\left(\\frac{13}{3}\\right)^2 $$\n",
        "$$ \\text{Var}(X) = 21 - \\frac{169}{9} $$\n",
        "$$ \\text{Var}(X) = 21 - 18.777\\overline{7} $$\n",
        "$$ \\text{Var}(X) = 2.222\\overline{2} $$\n",
        "$$ \\text{Var}(X) = \\frac{20}{9} $$\n",
        "\n",
        "so, the variance $ \\text{Var}(X) $ is $ \\frac{20}{9} $."
      ],
      "metadata": {
        "id": "wrbwQg2CGkZu"
      }
    },
    {
      "cell_type": "code",
      "source": [
        "points = range(1,7)\n",
        "\n",
        "p = [i / sum(points) for i in points]\n",
        "\n",
        "E_X = sum(i * p[i-1] for i in points)\n",
        "Var_X = sum((i**2) * p[i-1] for i in points) - E_X**2\n",
        "\n",
        "print(f\"Expected value: {E_X:.2f}\")\n",
        "print(f\"Variance: {Var_X:.2f}\")\n",
        "\n",
        "import numpy as np, matplotlib.pyplot as plt\n",
        "\n",
        "N = 1000000\n",
        "\n",
        "throws = np.random.choice([1, 2, 3, 4, 5, 6], p=p, size=N)\n",
        "sim_p = [np.mean(throws == i) for i in range(1, 7)]\n",
        "\n",
        "sim_e = np.mean(throws)\n",
        "sim_v = np.var(throws)\n",
        "\n",
        "fig, ax = plt.subplots(1, 2, figsize=(14, 5))\n",
        "\n",
        "ax[0].bar(range(1, 7), p, label='Calculated', alpha=0.5, color='tab:cyan')\n",
        "ax[0].bar(range(1, 7), sim_p, label='Simulated', alpha=0.5, color='tab:blue', width=0.5)\n",
        "ax[0].set_xlabel('Dice Points')\n",
        "ax[0].set_ylabel('Probability')\n",
        "ax[0].set_title('Probability Distribution of Unfair Dice')\n",
        "ax[0].legend()\n",
        "\n",
        "ev_var_labels = ['Expected Value', 'Variance']\n",
        "calc_values = [E_X, Var_X]\n",
        "simu_values = [sim_e, sim_v]\n",
        "x = np.arange(len(ev_var_labels))\n",
        "width = 0.35\n",
        "\n",
        "ax[1].bar(x - width/2, calc_values, width, label='Calculated', alpha=0.5, color='tab:cyan')\n",
        "ax[1].bar(x + width/2, simu_values, width, label='Simulated', alpha=0.5, color='tab:blue')\n",
        "ax[1].set_xticks(x)\n",
        "ax[1].set_xticklabels(ev_var_labels)\n",
        "ax[1].set_title('Expected Value and Variance Comparison')\n",
        "ax[1].set_ylabel('Value')\n",
        "ax[1].legend()\n",
        "\n",
        "plt.tight_layout()\n",
        "plt.show()"
      ],
      "metadata": {
        "id": "bunrDjz0npgL"
      },
      "execution_count": null,
      "outputs": []
    },
    {
      "cell_type": "markdown",
      "source": [
        "2. Monty Hall Problem Simulation"
      ],
      "metadata": {
        "id": "-gtWu7tAGlqg"
      }
    },
    {
      "cell_type": "markdown",
      "source": [],
      "metadata": {
        "id": "L5Yqj7BTlAYI"
      }
    },
    {
      "cell_type": "code",
      "source": [
        "import random, matplotlib.pyplot as plot\n",
        "\n",
        "doors = ['🐐','🚗','🐐']\n",
        "wins , probs = (0,0) , []\n",
        "\n",
        "for i in range(1,101):\n",
        "\n",
        "    random.shuffle(doors)\n",
        "\n",
        "    choice = random.choice([0,1,2])\n",
        "\n",
        "    monty = next(i for i in range(3) if i != choice and doors[i] == '🐐')\n",
        "\n",
        "    switch = next(i for i in range(3) if i != monty and i != choice)\n",
        "\n",
        "    wins = tuple(wins[i]+(doors[d]=='🚗') for i,d in enumerate((choice,switch)))\n",
        "\n",
        "    probs.append({'choice': wins[0] / i, 'switch': wins[1] / i})\n",
        "\n",
        "for f,p in zip(['Wins','Probability'],plot.subplots(1,2,tight_layout=True)[1]):\n",
        "    for d,l in [('choice','Retain'),('switch','Switch')]:\n",
        "        if f == 'Probability':\n",
        "            p.plot([prob[d] for prob in probs], label=l)\n",
        "        else:\n",
        "            p.plot([i * prob[d] for i,prob in enumerate(probs,1)], label=l)\n",
        "\n",
        "    p.set(xlabel='Games',ylabel=f)\n",
        "    p.legend()\n",
        "\n",
        "plot.show()"
      ],
      "metadata": {
        "id": "p2zFA8U3WpHh"
      },
      "execution_count": null,
      "outputs": []
    },
    {
      "cell_type": "markdown",
      "source": [
        "Conclusion: Chance by switching doors is ~⅔ vs staying ~⅓  "
      ],
      "metadata": {
        "id": "ZjKaE1vcIcWQ"
      }
    },
    {
      "cell_type": "markdown",
      "source": [
        "3. Bag of Dice\n",
        "\n",
        "> I have a bag in front of me containing a 6-sided (with number 1 to 6) and a 12-sided dice (with number 1 to 12). My friend pulls one out at random, rolls it once, and tells me that the number is 5. What is the probability that my friend pulled out the 6-sided die?\n",
        "\n",
        "Miro: $P(\\text{number is 5 | from 6-side}) = \\frac{P(\\text{number is 5 & in 6 side dice})}{P(\\text{take from 6 side dice})}$\n",
        "\n",
        "- $A$ is the event \"6-sided dice was chosen\"\n",
        "- $B$ is the event \"the number 5 was rolled\"\n",
        "- $\\sim A$ \"it's not A\" is the 12-sided dice\n",
        "\n",
        "- $P(A)$ of choosing the 6-sided dice is $\\frac{1}{2}$\n",
        "- $P(\\sim A)$ of choosing the 12-sided dice is $\\frac{1}{2}$\n",
        "- $P(B|A)$ of rolling a 5 with the 6-sided dice is $\\frac{1}{6}$\n",
        "- $P(B|\\sim A)$ of rolling a 5 with the 12-sided dice is $\\frac{1}{12}$\n",
        "- $P(B)$ of rolling a 5 with either dice, is the sum of P of \"rolling a 5 with the 6-sided dice\" and P of \"rolling a 5 with the 12-sided dice\", so: $ P(A) \\cdot P(B|A) + P(\\sim A) \\cdot P(B|\\sim A) = \\frac{1}{2} \\cdot \\frac{1}{6} + \\frac{1}{2} \\cdot \\frac{1}{12} = \\frac{1}{12} + \\frac{1}{24} = \\frac{1}{8} $\n",
        "\n",
        "**Bayes':**\n",
        "\n",
        "$$ P(A|B) = \\frac{P(B|A) \\cdot P(A)}{P(B)} = \\frac{P(B|A) \\cdot P(A)}{P(A) \\cdot P(B|A)+P(\\sim A) \\cdot P(B|\\sim A)} = \\frac{\\frac{1}{6} \\cdot \\frac{1}{2}}{\\frac{1}{2} \\cdot \\frac{1}{6}+\\frac{1}{2} \\cdot \\frac{1}{12}} = \\frac{\\frac{1}{12}}{\\frac{1}{12}+\\frac{1}{24}} = \\frac{\\frac{1}{12}}{\\frac{1}{8}} = \\frac{2}{3} \\approx 0.67 $$\n",
        "\n",
        "$~$\n",
        "\n",
        "$$ P(\\sim A|B) = \\frac{P(B|\\sim A) \\cdot P(\\sim A)}{P(B)} = \\frac{P(B|\\sim A) \\cdot P(\\sim A)}{P(A) \\cdot P(B|A)+P(\\sim A) \\cdot P(B|\\sim A)} = \\frac{\\frac{1}{24}}{\\frac{1}{12}+\\frac{1}{24}} = \\frac{\\frac{1}{24}}{\\frac{1}{8}} = \\frac{1}{3} \\approx 0.33 $$"
      ],
      "metadata": {
        "id": "PgmHeyBiHbGi"
      }
    },
    {
      "cell_type": "code",
      "source": [
        "from sympy import symbols, Eq, solve\n",
        "\n",
        "P_A, P_B_A, P_not_A, P_B_not_A = symbols('P_A P_B_A P_not_A P_B_not_A')\n",
        "\n",
        "# known P's\n",
        "P_A_val, P_B_A_val, P_not_A_val, P_B_not_A_val = 1/2, 1/6, 1/2, 1/12\n",
        "\n",
        "# calc P(B)\n",
        "P_B = P_A * P_B_A + P_not_A * P_B_not_A\n",
        "\n",
        "# Bayes' solve P(A|B) and P(~A|B)\n",
        "P_A_B_val = ((P_B_A * P_A) / P_B).subs({P_A: P_A_val, P_B_A: P_B_A_val, P_not_A: P_not_A_val, P_B_not_A: P_B_not_A_val})\n",
        "P_not_A_B_val = ((P_B_not_A * P_not_A) / P_B).subs({P_A: P_A_val, P_B_A: P_B_A_val, P_not_A: P_not_A_val, P_B_not_A: P_B_not_A_val})\n",
        "\n",
        "print(f\"P( A|B) = {P_A_B_val}\",)\n",
        "print(f\"P(~A|B) = {P_not_A_B_val}\")\n",
        "\n",
        "# let's sim !\n",
        "\n",
        "import random, matplotlib.pyplot as plt\n",
        "\n",
        "counts , probs = (0,0) , (0,0)\n",
        "\n",
        "N = 1000000\n",
        "\n",
        "for _ in range(N):\n",
        "    if random.choice(['D6','D12']) == 'D6':\n",
        "        if random.randint(1,6) == 5:\n",
        "            counts = (counts[0] + 1, counts[1])\n",
        "    else:\n",
        "        if random.randint(1,12) == 5:\n",
        "            counts = (counts[0], counts[1] + 1)\n",
        "\n",
        "probs = (counts[0] / N, counts[1] / N)\n",
        "\n",
        "plt.bar(['W6','W12'], probs, color=['blue','lime'])\n",
        "plt.title('p of 5')\n",
        "plt.show()\n",
        "\n",
        "print(f\"Probability of rolling 5 with the  6-sided dice: {probs[0]:.3f}\")\n",
        "print(f\"Probability of rolling 5 with the 12-sided dice: {probs[1]:.3f}\")"
      ],
      "metadata": {
        "id": "bexJw0m2wr_0"
      },
      "execution_count": null,
      "outputs": []
    },
    {
      "cell_type": "markdown",
      "source": [
        "Conclusion: it's more likely that the friend pulled out the 6-sided dice..."
      ],
      "metadata": {
        "id": "jsd2IiMUymgE"
      }
    },
    {
      "cell_type": "markdown",
      "source": [
        "4. Romeo and Juliet\n",
        "> would like to meet. Romeo will pick a random time between 9:00- 10:00 and Juliet pick a random time between 9:30 - 10:00  independently and waits for the other for 10 minutes and leave if they don't see the other. What is the probability that the two will meet?"
      ],
      "metadata": {
        "id": "rpeEJJXOGujf"
      }
    },
    {
      "cell_type": "code",
      "source": [
        "import matplotlib.pyplot as plt, numpy as np\n",
        "from matplotlib.colors import ListedColormap\n",
        "\n",
        "interval = (\n",
        "    np.arange(9.0, 10.01, 0.01), # 9:00-10:00\n",
        "    np.arange(9.5, 10.01, 0.01), # 9:30-10:00\n",
        ")\n",
        "\n",
        "X,Y = np.meshgrid(*interval)\n",
        "\n",
        "diff = np.abs(X-Y)\n",
        "\n",
        "meet = diff <= 1/6  # 10m\n",
        "\n",
        "r_meet = np.logical_and(X >= 9.5, Y >= 9.5)\n",
        "p_meet = np.sum(meet & r_meet) / np.sum(r_meet)\n",
        "\n",
        "r_miss = X < 9.5\n",
        "p_miss = np.sum(meet & r_miss) / np.sum(r_miss)\n",
        "\n",
        "p = 0.5 * (p_meet + p_miss)\n",
        "\n",
        "plt.figure()\n",
        "plt.imshow(meet, extent=[9,10,9.5,10], cmap=ListedColormap(['red','lime']))\n",
        "plt.legend([plt.plot([9,10], [9.5,10], color='gold')[0]], ['Same Time'])\n",
        "plt.xlabel(\"Romeo\")\n",
        "plt.ylabel(\"Julia\")\n",
        "\n",
        "cbar = plt.colorbar(label=\"Meet\", shrink=0.5, aspect=20*0.5)\n",
        "cbar.set_ticks([0.25, 0.75])\n",
        "cbar.set_ticklabels(['No','Yes'])\n",
        "\n",
        "plt.grid(True)\n",
        "plt.show()\n",
        "\n",
        "print(f\"The probability that Romeo and Julia will meet is approximately {p:.3f}\")\n",
        "\n",
        "# sim way\n",
        "\n",
        "n = 1000000\n",
        "\n",
        "times = np.random.uniform(0, 60, (n, 2))\n",
        "\n",
        "diff = np.abs(times[:, 0] - times[:, 1])\n",
        "\n",
        "meet = diff <= 10\n",
        "\n",
        "plt.scatter(times[:, 0], times[:, 1], c=meet, cmap='RdYlGn', s=1) # mins after 9\n",
        "plt.plot([00,60], [10,70], color='aqua', label='Y = X + 10')\n",
        "plt.plot([10,70], [00,60], color='navy', label='Y = X - 10')\n",
        "plt.plot([00,60], [00,60], color='gold', label='Y = X')\n",
        "plt.xlim(00,60) # 9:00\n",
        "plt.ylim(30,60) # 9:30\n",
        "plt.xlabel('Romeo')\n",
        "plt.ylabel('Julia')\n",
        "plt.legend(loc=\"center\")\n",
        "plt.grid(True)\n",
        "plt.show()\n",
        "\n",
        "print(f\"The probability that Romeo and Julia will meet is approximately {np.mean(meet):.3f}\")"
      ],
      "metadata": {
        "id": "jjx8EdstGv0b"
      },
      "execution_count": null,
      "outputs": []
    }
  ]
}